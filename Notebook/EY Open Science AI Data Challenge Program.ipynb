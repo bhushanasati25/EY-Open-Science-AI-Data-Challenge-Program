{
 "cells": [
  {
   "cell_type": "markdown",
   "id": "8fd30c3a-88d0-4c32-ac8e-c662d3439fd9",
   "metadata": {},
   "source": [
    "# Information about Challenges\n",
    "\n",
    "Aligned with the UN Sustainable Development Goals, the EY Open Science AI & Data Challenge is an annual competition that gives university students, early-career professionals, and EY people the opportunity to develop data models using artificial intelligence and computing technology to create open-source solutions that address critical climate issues, building a more sustainable future for society and the planet.\n",
    "\n",
    "Since the first challenge began in 2021, over 34,000 participants from 143 countries have signed on to tackle pressing issues such as preserving biodiversity and managing wildfires. Their skills, creativity and vision are helping to shape a more stable and sustainable future for society and the planet."
   ]
  },
  {
   "cell_type": "code",
   "execution_count": null,
   "id": "438c8d6c-66d1-4c7d-8c70-f047abfb8410",
   "metadata": {},
   "outputs": [],
   "source": []
  },
  {
   "cell_type": "code",
   "execution_count": null,
   "id": "d86069eb-7afb-483d-89c3-2125a9050765",
   "metadata": {},
   "outputs": [],
   "source": []
  }
 ],
 "metadata": {
  "kernelspec": {
   "display_name": "Python 3 (ipykernel)",
   "language": "python",
   "name": "python3"
  },
  "language_info": {
   "codemirror_mode": {
    "name": "ipython",
    "version": 3
   },
   "file_extension": ".py",
   "mimetype": "text/x-python",
   "name": "python",
   "nbconvert_exporter": "python",
   "pygments_lexer": "ipython3",
   "version": "3.12.7"
  }
 },
 "nbformat": 4,
 "nbformat_minor": 5
}
