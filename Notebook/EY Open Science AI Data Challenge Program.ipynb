{
 "cells": [
  {
   "cell_type": "markdown",
   "id": "8fd30c3a-88d0-4c32-ac8e-c662d3439fd9",
   "metadata": {},
   "source": [
    "# About the Challenge:\n",
    "\n",
    "Aligned with the United Nations Sustainable Development Goals and the EY Ripples program, the EY Open Science AI & Data Challenge is an annual competition that gives university students, early-career professionals and EY people the opportunity to develop data models using artificial intelligence (AI) and computing technology to create solutions that address critical climate issues, building a more sustainable future for society and the planet.\n",
    "\n",
    "The 2025 AI & data challenge is focused on a phenomenon known as the urban heat island effect, a situation that occurs due to the high density of buildings and lack of green space and water bodies in urban areas. Temperature variations between rural and urban environments can exceed 10-degrees Celsius in some cases and cause significant health-, social- and energy-related issues. Those particularly vulnerable to heat-related problems include young children, older adults, outdoor workers, and low-income populations.\n",
    "\n",
    "All output from the challenge can help bring cooling relief to vulnerable communities, but entrants with top scores will take home cash prizes and receive an invitation to an exciting awards celebration.\n",
    "\n",
    "Problem Statement:\n",
    "\n",
    "The goal of the challenge is to develop a machine learning model to predict heat island hotspots in an urban location. Additionally, the model should be designed to discern and highlight the key factors that contribute significantly to the development of these hotspots within city environments.\n",
    "\n",
    "Participants will be given near-surface air temperature data in an index format, which was collected on 24 July 2021 using a ground traverse in the Bronx and Manhattan region of New York City. This dataset constitutes traverse points (latitude and longitude) and their corresponding UHI (Urban Heat Island) index values. Participants will use this dataset to build a regression model to predict UHI Index values for a given set of locations.\n",
    "\n",
    "It is important to understand that the UHI Index at any given location is indicative of the relative temperature difference at that specific point when compared to the city's average temperature. This index serves as a crucial metric for assessing the intensity of heat within different urban zones."
   ]
  },
  {
   "cell_type": "markdown",
   "id": "5fafc1ba-1ed0-4409-bf30-e9aae51e2a8e",
   "metadata": {},
   "source": [
    "# Data Description\n",
    "\n",
    "Target Dataset:\n",
    "\n",
    "Near-surface air temperature data in an index format was collected on 24 July 2021 across the Bronx and Manhattan regions of New York City in the United States. The data was collected in the afternoon between 3:00 pm and 4:00 pm. This dataset includes time stamps, traverse points (latitude and longitude) and the corresponding Urban Heat Island (UHI) Index values for 11229 data points. These UHI Index values are the target parameters for your model.\n",
    "\n",
    "Please find the dataset here.\n",
    "\n",
    "Feature Datasets:\n",
    "\n",
    "Participants can leverage many datasets to consider for their models. Their ability to analyze which datasets and parameters are the most important for model development will determine the model performance. The following are the recommended satellite datasets:\n",
    "\n",
    "European Sentinel-2 optical satellite data\n",
    "NASA Landsat optical satellite data\n",
    "These datasets can be extracted from Microsoft Planetary Computer Portal's data catalog. Please see the sample notebooks for more details.\n",
    "\n",
    "Additional Datasets:\n",
    "\n",
    "Participants can also explore the following datasets in their model development journey:\n",
    "\n",
    "Building footprints of the Bronx and Manhattan regions\n",
    "Detailed local weather dataset of the Bronx and Manhattan regions on 24 July 2021\n",
    "Additionally, participants are allowed to use additional datasets for their models, provided those datasets are open and available to all public users and the source of such datasets are referenced in the model.\n",
    "\n",
    "Validation Dataset:\n",
    "\n",
    "After building the machine learning model, you need to predict the UHI index values on the locations identified in the validation dataset. Predictions on the validation dataset need to be saved in a CSV file and uploaded to the challenge platform to get a score on the ranking board.\n",
    "\n",
    "Supporting Material:\n",
    "\n",
    "Participants can refer to the following material before starting model development:\n",
    "\n",
    "Participants' guidance document, which provides a detailed overview of urban heat island concepts, relevant datasets, and suggestions for model development\n",
    "Jupyter notebook where a sample model has been built by using challenge training data\n",
    "Sample notebook to download a GeoTIFF image from the Sentinel-2 satellite dataset\n",
    "How to Get Started video\n",
    "Tips for Success video\n",
    "This ZIP file contains all of the required content mentioned above. You will find datasets, sample notebooks and documentation to support the data challenge.\n",
    "\n",
    "Terms of Use and Licensing requirements for the datasets:\n",
    "\n",
    "Training Data:\n",
    "\n",
    "Description: Ground temperature data over New York City on July 24, 2021 (CSV format)\n",
    "Contributors: Climate, Adaptation, Planning, Analytics (CAPA) Strategies\n",
    "Data Host: Center for Open Science - https://www.cos.io\n",
    "Terms of Use: https://github.com/CenterForOpenScience/cos.io/blob/master/TERMS_OF_USE.md\n",
    "License: Apache 2.0 > https://github.com/CenterForOpenScience/cos.io/blob/master/LICENSE\n",
    "Satellite Data (Sentinel-2 Sample Output)\n",
    "\n",
    "Description: Copernicus Sentinel-2 sample data from 2021 obtained from the Microsoft Planetary Computer (TIFF format)\n",
    "Contributors: European Space Agency (ESA), Microsoft\n",
    "Data Host: Microsoft Planetary Computer - https://planetarycomputer.microsoft.com/dataset/sentinel-2-l2a\n",
    "Terms of Use: https://sentinel.esa.int/documents/247904/690755/Sentinel_Data_Legal_Notice\n",
    "License: https://creativecommons.org/licenses/by-sa/3.0/igo/\n",
    "Building Footprint Data\n",
    "\n",
    "Description: Building footprint polygons over the data challenge region of interest (KML format)\n",
    "Contributors: Open Data Team at the NYC Office of Technology and Innovation (OTI) - New York City Open Data Project\n",
    "Data Host: https://data.cityofnewyork.us/Housing-Development/Building-Footprints/nqwf-w8eh\n",
    "Terms of Use: https://www.nyc.gov/html/data/terms.html and https://www.nyc.gov/home/terms-of-use.page\n",
    "License: https://github.com/CityOfNewYork/nyc-geo-metadata#Apache-2.0-1-ov-file\n",
    "Weather Data\n",
    "\n",
    "Description: Detailed weather data collected every 5 minutes at two locations (Bronx and Manhattan). Includes surface air temperature (2-meters), relative humidity, average wind speed, wind direction, and solar flux.\n",
    "Contributors: Contributors: New York State Mesonet\n",
    "Data Host: https://nysmesonet.org/\n",
    "Terms of Use: https://nysmesonet.org/about/data\n",
    "License: https://nysmesonet.org/documents/NYS_Mesonet_Data_Access_Policy.pdf"
   ]
  },
  {
   "cell_type": "code",
   "execution_count": null,
   "id": "d86069eb-7afb-483d-89c3-2125a9050765",
   "metadata": {},
   "outputs": [],
   "source": []
  },
  {
   "cell_type": "code",
   "execution_count": 19,
   "id": "86165aca-9860-4301-b10b-3de321ea948d",
   "metadata": {},
   "outputs": [
    {
     "data": {
      "text/html": [
       "<div>\n",
       "<style scoped>\n",
       "    .dataframe tbody tr th:only-of-type {\n",
       "        vertical-align: middle;\n",
       "    }\n",
       "\n",
       "    .dataframe tbody tr th {\n",
       "        vertical-align: top;\n",
       "    }\n",
       "\n",
       "    .dataframe thead th {\n",
       "        text-align: right;\n",
       "    }\n",
       "</style>\n",
       "<table border=\"1\" class=\"dataframe\">\n",
       "  <thead>\n",
       "    <tr style=\"text-align: right;\">\n",
       "      <th></th>\n",
       "      <th>Longitude</th>\n",
       "      <th>Latitude</th>\n",
       "      <th>datetime</th>\n",
       "      <th>UHI Index</th>\n",
       "    </tr>\n",
       "  </thead>\n",
       "  <tbody>\n",
       "    <tr>\n",
       "      <th>0</th>\n",
       "      <td>-73.909167</td>\n",
       "      <td>40.813107</td>\n",
       "      <td>24-07-2021 15:53</td>\n",
       "      <td>1.030289</td>\n",
       "    </tr>\n",
       "    <tr>\n",
       "      <th>1</th>\n",
       "      <td>-73.909187</td>\n",
       "      <td>40.813045</td>\n",
       "      <td>24-07-2021 15:53</td>\n",
       "      <td>1.030289</td>\n",
       "    </tr>\n",
       "    <tr>\n",
       "      <th>2</th>\n",
       "      <td>-73.909215</td>\n",
       "      <td>40.812978</td>\n",
       "      <td>24-07-2021 15:53</td>\n",
       "      <td>1.023798</td>\n",
       "    </tr>\n",
       "    <tr>\n",
       "      <th>3</th>\n",
       "      <td>-73.909242</td>\n",
       "      <td>40.812908</td>\n",
       "      <td>24-07-2021 15:53</td>\n",
       "      <td>1.023798</td>\n",
       "    </tr>\n",
       "    <tr>\n",
       "      <th>4</th>\n",
       "      <td>-73.909257</td>\n",
       "      <td>40.812845</td>\n",
       "      <td>24-07-2021 15:53</td>\n",
       "      <td>1.021634</td>\n",
       "    </tr>\n",
       "  </tbody>\n",
       "</table>\n",
       "</div>"
      ],
      "text/plain": [
       "   Longitude   Latitude          datetime  UHI Index\n",
       "0 -73.909167  40.813107  24-07-2021 15:53   1.030289\n",
       "1 -73.909187  40.813045  24-07-2021 15:53   1.030289\n",
       "2 -73.909215  40.812978  24-07-2021 15:53   1.023798\n",
       "3 -73.909242  40.812908  24-07-2021 15:53   1.023798\n",
       "4 -73.909257  40.812845  24-07-2021 15:53   1.021634"
      ]
     },
     "execution_count": 19,
     "metadata": {},
     "output_type": "execute_result"
    }
   ],
   "source": [
    "import pandas as pd\n",
    "\n",
    "# Load UHI index data\n",
    "uhi_data = pd.read_csv('Training_data_uhi_index.csv')\n",
    "# Standardize column names (remove spaces)\n",
    "uhi_data.columns = uhi_data.columns.str.strip()\n",
    "uhi_data.head()"
   ]
  },
  {
   "cell_type": "code",
   "execution_count": 20,
   "id": "eda49f88-0dc3-4b4f-a8d4-6351c3653c3f",
   "metadata": {},
   "outputs": [
    {
     "data": {
      "text/html": [
       "<div>\n",
       "<style scoped>\n",
       "    .dataframe tbody tr th:only-of-type {\n",
       "        vertical-align: middle;\n",
       "    }\n",
       "\n",
       "    .dataframe tbody tr th {\n",
       "        vertical-align: top;\n",
       "    }\n",
       "\n",
       "    .dataframe thead th {\n",
       "        text-align: right;\n",
       "    }\n",
       "</style>\n",
       "<table border=\"1\" class=\"dataframe\">\n",
       "  <thead>\n",
       "    <tr style=\"text-align: right;\">\n",
       "      <th></th>\n",
       "      <th>Name</th>\n",
       "      <th>Description</th>\n",
       "      <th>geometry</th>\n",
       "    </tr>\n",
       "  </thead>\n",
       "  <tbody>\n",
       "    <tr>\n",
       "      <th>0</th>\n",
       "      <td></td>\n",
       "      <td></td>\n",
       "      <td>MULTIPOLYGON (((-73.91903 40.8482, -73.91933 4...</td>\n",
       "    </tr>\n",
       "    <tr>\n",
       "      <th>1</th>\n",
       "      <td></td>\n",
       "      <td></td>\n",
       "      <td>MULTIPOLYGON (((-73.92195 40.84963, -73.92191 ...</td>\n",
       "    </tr>\n",
       "    <tr>\n",
       "      <th>2</th>\n",
       "      <td></td>\n",
       "      <td></td>\n",
       "      <td>MULTIPOLYGON (((-73.9205 40.85011, -73.92045 4...</td>\n",
       "    </tr>\n",
       "    <tr>\n",
       "      <th>3</th>\n",
       "      <td></td>\n",
       "      <td></td>\n",
       "      <td>MULTIPOLYGON (((-73.92056 40.8514, -73.92053 4...</td>\n",
       "    </tr>\n",
       "    <tr>\n",
       "      <th>4</th>\n",
       "      <td></td>\n",
       "      <td></td>\n",
       "      <td>MULTIPOLYGON (((-73.91234 40.85218, -73.91247 ...</td>\n",
       "    </tr>\n",
       "  </tbody>\n",
       "</table>\n",
       "</div>"
      ],
      "text/plain": [
       "  Name Description                                           geometry\n",
       "0                   MULTIPOLYGON (((-73.91903 40.8482, -73.91933 4...\n",
       "1                   MULTIPOLYGON (((-73.92195 40.84963, -73.92191 ...\n",
       "2                   MULTIPOLYGON (((-73.9205 40.85011, -73.92045 4...\n",
       "3                   MULTIPOLYGON (((-73.92056 40.8514, -73.92053 4...\n",
       "4                   MULTIPOLYGON (((-73.91234 40.85218, -73.91247 ..."
      ]
     },
     "execution_count": 20,
     "metadata": {},
     "output_type": "execute_result"
    }
   ],
   "source": [
    "import geopandas as gpd\n",
    "\n",
    "# Load building footprints\n",
    "building_data = gpd.read_file('Building_Footprint.kml')\n",
    "building_data.head()"
   ]
  },
  {
   "cell_type": "code",
   "execution_count": 21,
   "id": "d044dd77-3722-44f7-94f8-253c674937fa",
   "metadata": {},
   "outputs": [
    {
     "data": {
      "text/html": [
       "<div>\n",
       "<style scoped>\n",
       "    .dataframe tbody tr th:only-of-type {\n",
       "        vertical-align: middle;\n",
       "    }\n",
       "\n",
       "    .dataframe tbody tr th {\n",
       "        vertical-align: top;\n",
       "    }\n",
       "\n",
       "    .dataframe thead th {\n",
       "        text-align: right;\n",
       "    }\n",
       "</style>\n",
       "<table border=\"1\" class=\"dataframe\">\n",
       "  <thead>\n",
       "    <tr style=\"text-align: right;\">\n",
       "      <th></th>\n",
       "    </tr>\n",
       "  </thead>\n",
       "  <tbody>\n",
       "  </tbody>\n",
       "</table>\n",
       "</div>"
      ],
      "text/plain": [
       "Empty DataFrame\n",
       "Columns: []\n",
       "Index: []"
      ]
     },
     "execution_count": 21,
     "metadata": {},
     "output_type": "execute_result"
    }
   ],
   "source": [
    "# Load weather data\n",
    "weather_data = pd.read_excel('NY_Mesonet_Weather.xlsx')\n",
    "weather_data.head()"
   ]
  },
  {
   "cell_type": "code",
   "execution_count": 22,
   "id": "352cde4e-7288-4a96-a387-7ef08d652bcc",
   "metadata": {},
   "outputs": [
    {
     "name": "stdout",
     "output_type": "stream",
     "text": [
      "Index(['Longitude', 'Latitude', 'datetime', 'UHI Index'], dtype='object')\n"
     ]
    }
   ],
   "source": [
    "print(uhi_data.columns)\n"
   ]
  },
  {
   "cell_type": "code",
   "execution_count": 23,
   "id": "c7eceab8-6e28-477c-bd50-69ff764a7141",
   "metadata": {},
   "outputs": [],
   "source": [
    "uhi_data.rename(columns=lambda x: x.strip(), inplace=True)  # Removes extra spaces\n",
    "uhi_data.rename(columns={'UHI Index': 'UHI_Index'}, inplace=True)  # Rename if needed"
   ]
  },
  {
   "cell_type": "code",
   "execution_count": 24,
   "id": "76132ff8-1e2f-46c3-9992-6812a4a79f5e",
   "metadata": {},
   "outputs": [],
   "source": [
    "from sklearn.preprocessing import MinMaxScaler\n",
    "\n",
    "if 'UHI_Index' in uhi_data.columns:\n",
    "    scaler = MinMaxScaler()\n",
    "    uhi_data['UHI_Index_Normalized'] = scaler.fit_transform(uhi_data[['UHI_Index']])\n",
    "else:\n",
    "    print(\"Error: 'UHI_Index' column not found in dataset!\")\n"
   ]
  },
  {
   "cell_type": "code",
   "execution_count": 25,
   "id": "94f08b0f-955b-4f49-bfc3-4b3850fe5a04",
   "metadata": {},
   "outputs": [
    {
     "name": "stdout",
     "output_type": "stream",
     "text": [
      "   Longitude   Latitude          datetime  UHI_Index  UHI_Index_Normalized\n",
      "0 -73.909167  40.813107  24-07-2021 15:53   1.030289              0.824866\n",
      "1 -73.909187  40.813045  24-07-2021 15:53   1.030289              0.824866\n",
      "2 -73.909215  40.812978  24-07-2021 15:53   1.023798              0.752674\n",
      "3 -73.909242  40.812908  24-07-2021 15:53   1.023798              0.752674\n",
      "4 -73.909257  40.812845  24-07-2021 15:53   1.021634              0.728610\n"
     ]
    }
   ],
   "source": [
    "print(uhi_data.head())\n"
   ]
  },
  {
   "cell_type": "code",
   "execution_count": 26,
   "id": "b25ae48b-0d92-459c-9934-c37900c188ae",
   "metadata": {},
   "outputs": [
    {
     "name": "stdout",
     "output_type": "stream",
     "text": [
      "   Longitude   Latitude          datetime  UHI_Index  UHI_Index_Normalized\n",
      "0 -73.909167  40.813107  24-07-2021 15:53   1.030289              0.824866\n",
      "1 -73.909187  40.813045  24-07-2021 15:53   1.030289              0.824866\n",
      "2 -73.909215  40.812978  24-07-2021 15:53   1.023798              0.752674\n",
      "3 -73.909242  40.812908  24-07-2021 15:53   1.023798              0.752674\n",
      "4 -73.909257  40.812845  24-07-2021 15:53   1.021634              0.728610\n"
     ]
    }
   ],
   "source": [
    "print(uhi_data.head())"
   ]
  },
  {
   "cell_type": "code",
   "execution_count": null,
   "id": "209b67ed-30cb-4261-b158-b3147e7b888a",
   "metadata": {},
   "outputs": [],
   "source": []
  },
  {
   "cell_type": "code",
   "execution_count": 27,
   "id": "332cf225-18cf-42ce-a9aa-c3668d761481",
   "metadata": {},
   "outputs": [
    {
     "name": "stdout",
     "output_type": "stream",
     "text": [
      "   Longitude   Latitude          datetime  UHI_Index  UHI_Index_Normalized  \\\n",
      "0 -73.909167  40.813107  24-07-2021 15:53   1.030289              0.824866   \n",
      "1 -73.909187  40.813045  24-07-2021 15:53   1.030289              0.824866   \n",
      "2 -73.909215  40.812978  24-07-2021 15:53   1.023798              0.752674   \n",
      "3 -73.909242  40.812908  24-07-2021 15:53   1.023798              0.752674   \n",
      "4 -73.909257  40.812845  24-07-2021 15:53   1.021634              0.728610   \n",
      "\n",
      "                     geometry Name Description  Building_Count  \n",
      "0  POINT (-73.90917 40.81311)  NaN         NaN             0.0  \n",
      "1  POINT (-73.90919 40.81304)  NaN         NaN             0.0  \n",
      "2  POINT (-73.90922 40.81298)  NaN         NaN             0.0  \n",
      "3  POINT (-73.90924 40.81291)  NaN         NaN             0.0  \n",
      "4  POINT (-73.90926 40.81284)  NaN         NaN             0.0  \n"
     ]
    },
    {
     "name": "stderr",
     "output_type": "stream",
     "text": [
      "/var/folders/jn/7q4k5xqj6tdc7t0t0_c17hrm0000gn/T/ipykernel_2250/1414826424.py:19: FutureWarning: A value is trying to be set on a copy of a DataFrame or Series through chained assignment using an inplace method.\n",
      "The behavior will change in pandas 3.0. This inplace method will never work because the intermediate object on which we are setting values always behaves as a copy.\n",
      "\n",
      "For example, when doing 'df[col].method(value, inplace=True)', try using 'df.method({col: value}, inplace=True)' or df[col] = df[col].method(value) instead, to perform the operation inplace on the original object.\n",
      "\n",
      "\n",
      "  uhi_gdf['Building_Count'].fillna(0, inplace=True)\n"
     ]
    }
   ],
   "source": [
    "import geopandas as gpd\n",
    "from shapely.geometry import Point\n",
    "\n",
    "# Convert UHI data into a GeoDataFrame\n",
    "uhi_gdf = gpd.GeoDataFrame(uhi_data, \n",
    "                           geometry=gpd.points_from_xy(uhi_data['Longitude'], uhi_data['Latitude']),\n",
    "                           crs=\"EPSG:4326\")  # Use WGS84 coordinate system\n",
    "\n",
    "# Load Building Footprint Data\n",
    "building_data = gpd.read_file('Building_Footprint.kml')\n",
    "\n",
    "# Perform spatial join (Corrected)\n",
    "uhi_gdf = gpd.sjoin(uhi_gdf, building_data, how=\"left\", predicate=\"intersects\")  # FIXED\n",
    "\n",
    "# Calculate building count per area\n",
    "uhi_gdf['Building_Count'] = uhi_gdf.groupby('index_right')['index_right'].transform('count')\n",
    "\n",
    "# Replace NaNs with 0 where no buildings were found\n",
    "uhi_gdf['Building_Count'].fillna(0, inplace=True)\n",
    "\n",
    "# Drop unnecessary columns\n",
    "uhi_gdf.drop(columns=['index_right'], inplace=True)\n",
    "\n",
    "# Convert back to DataFrame\n",
    "uhi_data = pd.DataFrame(uhi_gdf)\n",
    "\n",
    "print(uhi_data.head())\n"
   ]
  },
  {
   "cell_type": "code",
   "execution_count": null,
   "id": "4c99d748-b303-486e-a7c3-6c9a5516985e",
   "metadata": {},
   "outputs": [],
   "source": []
  },
  {
   "cell_type": "code",
   "execution_count": null,
   "id": "20f22d70-8b5b-4ecf-84f9-b77ed2fccbc5",
   "metadata": {},
   "outputs": [],
   "source": []
  },
  {
   "cell_type": "code",
   "execution_count": null,
   "id": "7a47ba3d-2a24-4661-a3a6-c9edde04d174",
   "metadata": {},
   "outputs": [],
   "source": []
  }
 ],
 "metadata": {
  "kernelspec": {
   "display_name": "Python 3 (ipykernel)",
   "language": "python",
   "name": "python3"
  },
  "language_info": {
   "codemirror_mode": {
    "name": "ipython",
    "version": 3
   },
   "file_extension": ".py",
   "mimetype": "text/x-python",
   "name": "python",
   "nbconvert_exporter": "python",
   "pygments_lexer": "ipython3",
   "version": "3.13.1"
  }
 },
 "nbformat": 4,
 "nbformat_minor": 5
}
